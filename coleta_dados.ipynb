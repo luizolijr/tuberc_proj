{
 "cells": [
  {
   "cell_type": "code",
   "execution_count": 11,
   "id": "1ed770bf",
   "metadata": {
    "ExecuteTime": {
     "end_time": "2024-02-18T14:52:38.207722Z",
     "start_time": "2024-02-18T14:52:31.549996Z"
    }
   },
   "outputs": [
    {
     "name": "stdout",
     "output_type": "stream",
     "text": [
      "RJ\n"
     ]
    },
    {
     "name": "stderr",
     "output_type": "stream",
     "text": [
      "100%|██████████████████████████████████████████████████████████████████████████████████| 13/13 [00:06<00:00,  1.96it/s]\n"
     ]
    }
   ],
   "source": [
    "import urllib.request\n",
    "import os\n",
    "from tqdm import tqdm\n",
    "import datetime\n",
    "\n",
    "def get_data_uf_ano_mes(uf, ano, mes):    \n",
    "    \n",
    "    #tuberculose(2022)\n",
    "    \n",
    "    url = f\"ftp://ftp.datasus.gov.br/dissemin/publicos/SINAN/DADOS/FINAIS/TUBEBR12.dbc\"\n",
    "\n",
    "    file_s3 = f\"C:\\\\Users\\\\luizjr\\\\REPOS\\\\ADA_TECH\\\\FORMACAO\\\\MODULO_05\\\\ARQUIVOS_DBC\\\\TUBEBR12.dbc\"\n",
    "\n",
    "    resp = urllib.request.urlretrieve(url, file_s3)\n",
    "       \n",
    "\n",
    "def get_data_uf(uf, datas):\n",
    "    for i in tqdm(datas):\n",
    "        ano, mes, dia = i.split(\"-\")\n",
    "        ano = ano[-2:]\n",
    "        get_data_uf_ano_mes(uf, ano, mes)\n",
    "        \n",
    "#lista completa de estados\n",
    "# ufs = [\"AC\", \"AL\", \"AP\", \"AM\", \"BA\",\n",
    "#        \"CE\", \"DF\", \"ES\", \"GO\", \"MA\",\n",
    "#        \"MT\", \"MS\", \"MG\", \"PA\", \"PB\",\n",
    "#        \"PR\", \"PE\", \"PI\", \"RJ\", \"RN\",\n",
    "#        \"RS\", \"RO\", \"RR\", \"SC\", \"SP\",\n",
    "#        \"SE\", \"TO\"]\n",
    "\n",
    "ufs = [\"RJ\"]\n",
    "\n",
    "\n",
    "def date_range(start, stop, monthly=False):\n",
    "    dt_start = datetime.datetime.strptime(start, '%Y-%m-%d')\n",
    "    dt_stop = datetime.datetime.strptime(stop, '%Y-%m-%d')\n",
    "    dates = []\n",
    "    \n",
    "    while dt_start <= dt_stop:\n",
    "        dates.append(dt_start.strftime(\"%Y-%m-%d\"))\n",
    "        dt_start += datetime.timedelta(days=1)\n",
    "        \n",
    "    if monthly:\n",
    "        return [i for i in dates if i.endswith(\"01\")]\n",
    "    \n",
    "    return dates\n",
    "\n",
    "dt_start = '2018-01-01'\n",
    "dt_stop = '2019-01-01'\n",
    "\n",
    "datas = date_range(dt_start, dt_stop, monthly=True)\n",
    "\n",
    "for uf in ufs:\n",
    "    print(uf)\n",
    "    get_data_uf(uf, datas)"
   ]
  },
  {
   "cell_type": "code",
   "execution_count": 3,
   "id": "5ac0ad99",
   "metadata": {
    "ExecuteTime": {
     "end_time": "2024-02-19T23:47:03.229654Z",
     "start_time": "2024-02-19T23:46:53.636741Z"
    }
   },
   "outputs": [],
   "source": [
    "import urllib.request\n",
    "import os\n",
    "from tqdm import tqdm\n",
    "import datetime\n",
    "\n",
    "url = f\"ftp://ftp.datasus.gov.br/dissemin/publicos/SIASUS/200801_/Dados/PARJ2309a.dbc\"\n",
    "file_s3 = f\"C:\\\\Users\\\\luizjr\\\\REPOS\\\\ADA_TECH\\\\FORMACAO\\\\MODULO_05\\\\ADRJ2309.dbc\"\n",
    "resp = urllib.request.urlretrieve(url, file_s3)"
   ]
  }
 ],
 "metadata": {
  "kernelspec": {
   "display_name": "Python 3 (ipykernel)",
   "language": "python",
   "name": "python3"
  },
  "language_info": {
   "codemirror_mode": {
    "name": "ipython",
    "version": 3
   },
   "file_extension": ".py",
   "mimetype": "text/x-python",
   "name": "python",
   "nbconvert_exporter": "python",
   "pygments_lexer": "ipython3",
   "version": "3.9.13"
  }
 },
 "nbformat": 4,
 "nbformat_minor": 5
}
